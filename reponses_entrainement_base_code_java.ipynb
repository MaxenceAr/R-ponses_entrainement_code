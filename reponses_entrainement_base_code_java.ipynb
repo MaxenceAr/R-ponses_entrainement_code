{
  "nbformat": 4,
  "nbformat_minor": 0,
  "metadata": {
    "colab": {
      "provenance": [],
      "authorship_tag": "ABX9TyOsVc+/+YAgLhNhP9rJhMUa",
      "include_colab_link": true
    },
    "kernelspec": {
      "name": "python3",
      "display_name": "Python 3"
    },
    "language_info": {
      "name": "python"
    }
  },
  "cells": [
    {
      "cell_type": "markdown",
      "metadata": {
        "id": "view-in-github",
        "colab_type": "text"
      },
      "source": [
        "<a href=\"https://colab.research.google.com/github/MaxenceAr/R-ponses_entrainement_code/blob/main/reponses_entrainement_base_code_java.ipynb\" target=\"_parent\"><img src=\"https://colab.research.google.com/assets/colab-badge.svg\" alt=\"Open In Colab\"/></a>"
      ]
    },
    {
      "cell_type": "markdown",
      "source": [
        "# Numpy"
      ],
      "metadata": {
        "id": "EykjwzKl6K_5"
      }
    },
    {
      "cell_type": "code",
      "source": [],
      "metadata": {
        "id": "6YRdb_m76u3i"
      },
      "execution_count": null,
      "outputs": []
    },
    {
      "cell_type": "code",
      "execution_count": null,
      "metadata": {
        "id": "FDwjsZs56KJG"
      },
      "outputs": [],
      "source": [
        "import numpy as np\n",
        "vecteur=np.array([2,1,5])"
      ]
    },
    {
      "cell_type": "code",
      "source": [
        "vecteur_trie = np.sort(vecteur)"
      ],
      "metadata": {
        "id": "Hv5Xbe5z7Swc"
      },
      "execution_count": null,
      "outputs": []
    },
    {
      "cell_type": "code",
      "source": [
        "vecteur=np.array([2,1,5], dtype=\"int\")"
      ],
      "metadata": {
        "id": "sFg_JlIt8TkE"
      },
      "execution_count": null,
      "outputs": []
    },
    {
      "cell_type": "code",
      "source": [
        "np.ones((3, 5), dtype=float)"
      ],
      "metadata": {
        "colab": {
          "base_uri": "https://localhost:8080/"
        },
        "id": "-CYuN8VJ9hHQ",
        "outputId": "9f6ae2be-6c3e-4ba5-cfa2-7c49e2d4ff05"
      },
      "execution_count": null,
      "outputs": [
        {
          "output_type": "execute_result",
          "data": {
            "text/plain": [
              "array([[1., 1., 1., 1., 1.],\n",
              "       [1., 1., 1., 1., 1.],\n",
              "       [1., 1., 1., 1., 1.]])"
            ]
          },
          "metadata": {},
          "execution_count": 5
        }
      ]
    },
    {
      "cell_type": "code",
      "source": [
        "x = np.arange(10)"
      ],
      "metadata": {
        "id": "B3UIZ4tz_gGj"
      },
      "execution_count": null,
      "outputs": []
    },
    {
      "cell_type": "code",
      "source": [
        "print(x)"
      ],
      "metadata": {
        "colab": {
          "base_uri": "https://localhost:8080/"
        },
        "id": "GV2u6LTS_3BT",
        "outputId": "5dabbeb1-2ae7-48ea-cc73-ac3581d09e7d"
      },
      "execution_count": null,
      "outputs": [
        {
          "output_type": "stream",
          "name": "stdout",
          "text": [
            "[0 1 2 3 4 5 6 7 8 9]\n"
          ]
        }
      ]
    },
    {
      "cell_type": "code",
      "source": [
        "x[0:10:2]"
      ],
      "metadata": {
        "colab": {
          "base_uri": "https://localhost:8080/"
        },
        "id": "v_J1ZQbi_hKB",
        "outputId": "15bc9896-71f2-478e-829f-910b274843a5"
      },
      "execution_count": null,
      "outputs": [
        {
          "output_type": "execute_result",
          "data": {
            "text/plain": [
              "array([0, 2, 4, 6, 8])"
            ]
          },
          "metadata": {},
          "execution_count": 8
        }
      ]
    },
    {
      "cell_type": "code",
      "source": [
        "x[4:9]"
      ],
      "metadata": {
        "colab": {
          "base_uri": "https://localhost:8080/"
        },
        "id": "1ui1wYEYADYm",
        "outputId": "e4ae5d12-a7d6-4f0b-beb7-c17ddf71d93a"
      },
      "execution_count": null,
      "outputs": [
        {
          "output_type": "execute_result",
          "data": {
            "text/plain": [
              "array([4, 5, 6, 7, 8])"
            ]
          },
          "metadata": {},
          "execution_count": 9
        }
      ]
    },
    {
      "cell_type": "markdown",
      "source": [
        "Observer ce qui suit"
      ],
      "metadata": {
        "id": "L4Wc9aTtCX-Y"
      }
    },
    {
      "cell_type": "code",
      "source": [
        "x2 = np.array([[-1,1,-2],[-3,2,0]])\n",
        "print(x2)"
      ],
      "metadata": {
        "colab": {
          "base_uri": "https://localhost:8080/"
        },
        "id": "_uPePcrxCaae",
        "outputId": "1d2ddf22-7df5-4814-8045-c064d1438e43"
      },
      "execution_count": null,
      "outputs": [
        {
          "output_type": "stream",
          "name": "stdout",
          "text": [
            "[[-1  1 -2]\n",
            " [-3  2  0]]\n"
          ]
        }
      ]
    },
    {
      "cell_type": "code",
      "source": [
        "print(x2<0)"
      ],
      "metadata": {
        "colab": {
          "base_uri": "https://localhost:8080/"
        },
        "id": "LNeNopexCuL-",
        "outputId": "f047a187-18d1-4fc6-dd0b-4e596ed00ce9"
      },
      "execution_count": null,
      "outputs": [
        {
          "output_type": "stream",
          "name": "stdout",
          "text": [
            "[[ True False  True]\n",
            " [ True False False]]\n"
          ]
        }
      ]
    },
    {
      "cell_type": "code",
      "source": [
        "x = np.random.normal(size=10000)\n",
        "\n",
        "# Conserver les valeurs dont la valeur absolue est supérieure à 1.96\n",
        "valeurs_superieures = x[x > 1.96]\n",
        "\n",
        "# Compter le nombre de valeurs supérieures à 1.96 en valeur absolue\n",
        "nombre_valeurs_superieures = len(valeurs_superieures)\n",
        "\n",
        "# Calculer la proportion dans l'ensemble initial\n",
        "proportion_superieure = nombre_valeurs_superieures / len(x)\n",
        "\n",
        "print(valeurs_superieures)\n",
        "print(proportion_superieure)"
      ],
      "metadata": {
        "colab": {
          "base_uri": "https://localhost:8080/"
        },
        "id": "CQgQha0gDi3Q",
        "outputId": "74badb61-1c5d-4f07-b5d0-13c8ae56361e"
      },
      "execution_count": null,
      "outputs": [
        {
          "output_type": "stream",
          "name": "stdout",
          "text": [
            "[2.32010563 2.39170953 2.87423571 2.40663879 2.18980476 2.13402053\n",
            " 2.51954735 2.15122617 2.22290683 2.38049275 3.1680327  2.22256287\n",
            " 2.10508654 1.99281572 1.99387742 2.20710779 2.54751971 3.30442186\n",
            " 2.59817329 2.3708682  2.00419694 2.09020668 2.01582733 1.97269099\n",
            " 2.37649677 2.27537471 1.98334328 2.02616837 2.45092658 2.12542461\n",
            " 2.11606466 1.99156677 2.88255975 2.19092701 2.0295003  2.17260639\n",
            " 3.28750621 2.24439749 2.05613004 2.03309459 2.42756019 2.35238919\n",
            " 1.99238702 3.24424481 2.11941323 2.89457901 2.79981946 2.26454572\n",
            " 3.11513049 2.33559184 2.12551352 2.02645021 2.13804974 2.15357343\n",
            " 2.05624285 2.52695103 2.58409554 2.07269049 2.62703549 1.99983278\n",
            " 2.37804966 2.11494058 2.03899123 2.73386865 2.26449122 2.23964716\n",
            " 2.02862998 2.4441567  2.39875831 1.99624453 2.21009912 2.20185221\n",
            " 2.00453741 2.2035372  1.99328696 2.58622483 2.03894596 2.55614362\n",
            " 2.98515343 2.31057263 2.08845023 2.20804315 2.02344646 2.66564759\n",
            " 3.04566581 2.18240624 2.5517683  1.99504283 2.7552337  1.96846461\n",
            " 2.08243054 2.19352138 2.44813747 2.14948962 2.01158893 2.57188469\n",
            " 2.44184172 2.04037029 2.56687213 2.04439245 2.1967991  2.1955474\n",
            " 3.00961287 2.15841458 1.96471042 2.1301656  2.89082818 2.04203156\n",
            " 2.80313939 2.27914154 2.05425201 2.04997487 2.0300627  2.08469351\n",
            " 2.10058782 2.94431731 2.66525863 2.44015127 1.97216142 2.61576508\n",
            " 3.11214981 2.64529191 3.07509394 1.96525017 2.19364827 2.12209982\n",
            " 2.31910185 2.0634054  1.9999157  2.87817853 2.48984428 2.01824724\n",
            " 2.18658737 2.14553751 2.45191632 2.52299999 2.56405962 2.00758196\n",
            " 2.59017387 2.24964037 2.07503275 2.29250176 2.33470369 2.06619484\n",
            " 2.45362397 1.96501521 2.28446117 2.43802863 2.15093908 2.22420089\n",
            " 2.85113772 2.71968459 2.19877671 2.44222915 2.0050721  2.0691699\n",
            " 2.97810747 2.17277613 2.17530284 2.18368756 2.23468341 2.06185268\n",
            " 2.37112682 2.62496445 2.34913035 2.2290937  2.60574072 2.44218373\n",
            " 1.97226488 2.80959216 2.4166258  2.14171041 2.0412559  2.46860353\n",
            " 2.28674496 2.22637952 2.15263318 1.98700486 2.89261937 2.08312758\n",
            " 2.14001205 1.98703818 2.4898309  3.17120524 2.08715461 2.348017\n",
            " 1.96679351 2.4833416  2.26153116 2.9846741  2.34215095 2.00585925\n",
            " 2.00648614 2.38795892 2.17510127 2.42352337 2.0285512  2.14910949\n",
            " 2.00728724 2.92193313 2.15206615 2.3690902  2.45455346 1.98501489\n",
            " 2.04607429 2.67723511 2.40602571 2.18534436 3.09642128 1.99898888\n",
            " 1.98826712 2.51931501 2.02946446 2.77451761 2.42067048 2.26607997\n",
            " 2.48453584 2.24198331 2.30989973 1.96652724 2.13323917 3.20095139\n",
            " 2.1083124  2.21210214 2.92674324 2.68385832 2.02420348 2.95913399\n",
            " 3.03699905 2.01058808 2.64969134 2.16961466 2.72498705]\n",
            "0.0233\n"
          ]
        }
      ]
    },
    {
      "cell_type": "markdown",
      "source": [
        "# Panda**s**"
      ],
      "metadata": {
        "id": "iVN1iLrJVTC8"
      }
    },
    {
      "cell_type": "code",
      "source": [
        "import pandas as pd\n",
        "chemin_fichier = '/content/sample_data/GES par commune ADEME.csv'\n",
        "GES_ADEME=pd.read_csv(chemin_fichier)\n",
        "#Le data frame s'appelle maintenant GES_ADEME"
      ],
      "metadata": {
        "id": "AIDEccosGS7v"
      },
      "execution_count": null,
      "outputs": []
    },
    {
      "cell_type": "code",
      "source": [
        "GES_ADEME.head(7)"
      ],
      "metadata": {
        "colab": {
          "base_uri": "https://localhost:8080/",
          "height": 393
        },
        "id": "Ba84xKARWaUB",
        "outputId": "e27f6ac0-5405-45ab-a77f-54ef30e5079e"
      },
      "execution_count": null,
      "outputs": [
        {
          "output_type": "execute_result",
          "data": {
            "text/plain": [
              "  INSEE commune                  Commune  Agriculture  Autres transports  \\\n",
              "0         01001  L'ABERGEMENT-CLEMENCIAT  3711.425991                NaN   \n",
              "1         01002    L'ABERGEMENT-DE-VAREY   475.330205                NaN   \n",
              "2         01004        AMBERIEU-EN-BUGEY   499.043526         212.577908   \n",
              "3         01005      AMBERIEUX-EN-DOMBES  1859.160954                NaN   \n",
              "4         01006                  AMBLEON   448.966808                NaN   \n",
              "5         01007                 AMBRONAY  4390.996698         132.968268   \n",
              "6         01008                 AMBUTRIX   489.648726          60.233517   \n",
              "\n",
              "   Autres transports international  CO2 biomasse hors-total      Déchets  \\\n",
              "0                              NaN               432.751835   101.430476   \n",
              "1                              NaN               140.741660   140.675439   \n",
              "2                              NaN             10313.446515  5314.314445   \n",
              "3                              NaN              1144.429311   216.217508   \n",
              "4                              NaN                77.033834    48.401549   \n",
              "5                              NaN              3067.245459  6144.186081   \n",
              "6                              NaN               558.055709    98.388885   \n",
              "\n",
              "      Energie  Industrie hors-énergie   Résidentiel       Routier  \\\n",
              "0    2.354558                6.911213    309.358195    793.156501   \n",
              "1    2.354558                6.911213    104.866444    348.997893   \n",
              "2  998.332482             2930.354461  16616.822534  15642.420313   \n",
              "3   94.182310              276.448534    663.683146   1756.341319   \n",
              "4         NaN                     NaN     43.714019    398.786800   \n",
              "5  122.437003              359.383094   1898.638273  22481.123575   \n",
              "6    2.354558                6.911213    495.393592   3616.168396   \n",
              "\n",
              "      Tertiaire  \n",
              "0    367.036172  \n",
              "1    112.934207  \n",
              "2  10732.376934  \n",
              "3    782.404357  \n",
              "4     51.681756  \n",
              "5   2789.133106  \n",
              "6    356.029873  "
            ],
            "text/html": [
              "\n",
              "  <div id=\"df-7da16b9d-adac-43ad-9b4f-8bda7683e00e\" class=\"colab-df-container\">\n",
              "    <div>\n",
              "<style scoped>\n",
              "    .dataframe tbody tr th:only-of-type {\n",
              "        vertical-align: middle;\n",
              "    }\n",
              "\n",
              "    .dataframe tbody tr th {\n",
              "        vertical-align: top;\n",
              "    }\n",
              "\n",
              "    .dataframe thead th {\n",
              "        text-align: right;\n",
              "    }\n",
              "</style>\n",
              "<table border=\"1\" class=\"dataframe\">\n",
              "  <thead>\n",
              "    <tr style=\"text-align: right;\">\n",
              "      <th></th>\n",
              "      <th>INSEE commune</th>\n",
              "      <th>Commune</th>\n",
              "      <th>Agriculture</th>\n",
              "      <th>Autres transports</th>\n",
              "      <th>Autres transports international</th>\n",
              "      <th>CO2 biomasse hors-total</th>\n",
              "      <th>Déchets</th>\n",
              "      <th>Energie</th>\n",
              "      <th>Industrie hors-énergie</th>\n",
              "      <th>Résidentiel</th>\n",
              "      <th>Routier</th>\n",
              "      <th>Tertiaire</th>\n",
              "    </tr>\n",
              "  </thead>\n",
              "  <tbody>\n",
              "    <tr>\n",
              "      <th>0</th>\n",
              "      <td>01001</td>\n",
              "      <td>L'ABERGEMENT-CLEMENCIAT</td>\n",
              "      <td>3711.425991</td>\n",
              "      <td>NaN</td>\n",
              "      <td>NaN</td>\n",
              "      <td>432.751835</td>\n",
              "      <td>101.430476</td>\n",
              "      <td>2.354558</td>\n",
              "      <td>6.911213</td>\n",
              "      <td>309.358195</td>\n",
              "      <td>793.156501</td>\n",
              "      <td>367.036172</td>\n",
              "    </tr>\n",
              "    <tr>\n",
              "      <th>1</th>\n",
              "      <td>01002</td>\n",
              "      <td>L'ABERGEMENT-DE-VAREY</td>\n",
              "      <td>475.330205</td>\n",
              "      <td>NaN</td>\n",
              "      <td>NaN</td>\n",
              "      <td>140.741660</td>\n",
              "      <td>140.675439</td>\n",
              "      <td>2.354558</td>\n",
              "      <td>6.911213</td>\n",
              "      <td>104.866444</td>\n",
              "      <td>348.997893</td>\n",
              "      <td>112.934207</td>\n",
              "    </tr>\n",
              "    <tr>\n",
              "      <th>2</th>\n",
              "      <td>01004</td>\n",
              "      <td>AMBERIEU-EN-BUGEY</td>\n",
              "      <td>499.043526</td>\n",
              "      <td>212.577908</td>\n",
              "      <td>NaN</td>\n",
              "      <td>10313.446515</td>\n",
              "      <td>5314.314445</td>\n",
              "      <td>998.332482</td>\n",
              "      <td>2930.354461</td>\n",
              "      <td>16616.822534</td>\n",
              "      <td>15642.420313</td>\n",
              "      <td>10732.376934</td>\n",
              "    </tr>\n",
              "    <tr>\n",
              "      <th>3</th>\n",
              "      <td>01005</td>\n",
              "      <td>AMBERIEUX-EN-DOMBES</td>\n",
              "      <td>1859.160954</td>\n",
              "      <td>NaN</td>\n",
              "      <td>NaN</td>\n",
              "      <td>1144.429311</td>\n",
              "      <td>216.217508</td>\n",
              "      <td>94.182310</td>\n",
              "      <td>276.448534</td>\n",
              "      <td>663.683146</td>\n",
              "      <td>1756.341319</td>\n",
              "      <td>782.404357</td>\n",
              "    </tr>\n",
              "    <tr>\n",
              "      <th>4</th>\n",
              "      <td>01006</td>\n",
              "      <td>AMBLEON</td>\n",
              "      <td>448.966808</td>\n",
              "      <td>NaN</td>\n",
              "      <td>NaN</td>\n",
              "      <td>77.033834</td>\n",
              "      <td>48.401549</td>\n",
              "      <td>NaN</td>\n",
              "      <td>NaN</td>\n",
              "      <td>43.714019</td>\n",
              "      <td>398.786800</td>\n",
              "      <td>51.681756</td>\n",
              "    </tr>\n",
              "    <tr>\n",
              "      <th>5</th>\n",
              "      <td>01007</td>\n",
              "      <td>AMBRONAY</td>\n",
              "      <td>4390.996698</td>\n",
              "      <td>132.968268</td>\n",
              "      <td>NaN</td>\n",
              "      <td>3067.245459</td>\n",
              "      <td>6144.186081</td>\n",
              "      <td>122.437003</td>\n",
              "      <td>359.383094</td>\n",
              "      <td>1898.638273</td>\n",
              "      <td>22481.123575</td>\n",
              "      <td>2789.133106</td>\n",
              "    </tr>\n",
              "    <tr>\n",
              "      <th>6</th>\n",
              "      <td>01008</td>\n",
              "      <td>AMBUTRIX</td>\n",
              "      <td>489.648726</td>\n",
              "      <td>60.233517</td>\n",
              "      <td>NaN</td>\n",
              "      <td>558.055709</td>\n",
              "      <td>98.388885</td>\n",
              "      <td>2.354558</td>\n",
              "      <td>6.911213</td>\n",
              "      <td>495.393592</td>\n",
              "      <td>3616.168396</td>\n",
              "      <td>356.029873</td>\n",
              "    </tr>\n",
              "  </tbody>\n",
              "</table>\n",
              "</div>\n",
              "    <div class=\"colab-df-buttons\">\n",
              "\n",
              "  <div class=\"colab-df-container\">\n",
              "    <button class=\"colab-df-convert\" onclick=\"convertToInteractive('df-7da16b9d-adac-43ad-9b4f-8bda7683e00e')\"\n",
              "            title=\"Convert this dataframe to an interactive table.\"\n",
              "            style=\"display:none;\">\n",
              "\n",
              "  <svg xmlns=\"http://www.w3.org/2000/svg\" height=\"24px\" viewBox=\"0 -960 960 960\">\n",
              "    <path d=\"M120-120v-720h720v720H120Zm60-500h600v-160H180v160Zm220 220h160v-160H400v160Zm0 220h160v-160H400v160ZM180-400h160v-160H180v160Zm440 0h160v-160H620v160ZM180-180h160v-160H180v160Zm440 0h160v-160H620v160Z\"/>\n",
              "  </svg>\n",
              "    </button>\n",
              "\n",
              "  <style>\n",
              "    .colab-df-container {\n",
              "      display:flex;\n",
              "      gap: 12px;\n",
              "    }\n",
              "\n",
              "    .colab-df-convert {\n",
              "      background-color: #E8F0FE;\n",
              "      border: none;\n",
              "      border-radius: 50%;\n",
              "      cursor: pointer;\n",
              "      display: none;\n",
              "      fill: #1967D2;\n",
              "      height: 32px;\n",
              "      padding: 0 0 0 0;\n",
              "      width: 32px;\n",
              "    }\n",
              "\n",
              "    .colab-df-convert:hover {\n",
              "      background-color: #E2EBFA;\n",
              "      box-shadow: 0px 1px 2px rgba(60, 64, 67, 0.3), 0px 1px 3px 1px rgba(60, 64, 67, 0.15);\n",
              "      fill: #174EA6;\n",
              "    }\n",
              "\n",
              "    .colab-df-buttons div {\n",
              "      margin-bottom: 4px;\n",
              "    }\n",
              "\n",
              "    [theme=dark] .colab-df-convert {\n",
              "      background-color: #3B4455;\n",
              "      fill: #D2E3FC;\n",
              "    }\n",
              "\n",
              "    [theme=dark] .colab-df-convert:hover {\n",
              "      background-color: #434B5C;\n",
              "      box-shadow: 0px 1px 3px 1px rgba(0, 0, 0, 0.15);\n",
              "      filter: drop-shadow(0px 1px 2px rgba(0, 0, 0, 0.3));\n",
              "      fill: #FFFFFF;\n",
              "    }\n",
              "  </style>\n",
              "\n",
              "    <script>\n",
              "      const buttonEl =\n",
              "        document.querySelector('#df-7da16b9d-adac-43ad-9b4f-8bda7683e00e button.colab-df-convert');\n",
              "      buttonEl.style.display =\n",
              "        google.colab.kernel.accessAllowed ? 'block' : 'none';\n",
              "\n",
              "      async function convertToInteractive(key) {\n",
              "        const element = document.querySelector('#df-7da16b9d-adac-43ad-9b4f-8bda7683e00e');\n",
              "        const dataTable =\n",
              "          await google.colab.kernel.invokeFunction('convertToInteractive',\n",
              "                                                    [key], {});\n",
              "        if (!dataTable) return;\n",
              "\n",
              "        const docLinkHtml = 'Like what you see? Visit the ' +\n",
              "          '<a target=\"_blank\" href=https://colab.research.google.com/notebooks/data_table.ipynb>data table notebook</a>'\n",
              "          + ' to learn more about interactive tables.';\n",
              "        element.innerHTML = '';\n",
              "        dataTable['output_type'] = 'display_data';\n",
              "        await google.colab.output.renderOutput(dataTable, element);\n",
              "        const docLink = document.createElement('div');\n",
              "        docLink.innerHTML = docLinkHtml;\n",
              "        element.appendChild(docLink);\n",
              "      }\n",
              "    </script>\n",
              "  </div>\n",
              "\n",
              "\n",
              "<div id=\"df-8380cb41-9492-420d-8ab3-881603581b6a\">\n",
              "  <button class=\"colab-df-quickchart\" onclick=\"quickchart('df-8380cb41-9492-420d-8ab3-881603581b6a')\"\n",
              "            title=\"Suggest charts\"\n",
              "            style=\"display:none;\">\n",
              "\n",
              "<svg xmlns=\"http://www.w3.org/2000/svg\" height=\"24px\"viewBox=\"0 0 24 24\"\n",
              "     width=\"24px\">\n",
              "    <g>\n",
              "        <path d=\"M19 3H5c-1.1 0-2 .9-2 2v14c0 1.1.9 2 2 2h14c1.1 0 2-.9 2-2V5c0-1.1-.9-2-2-2zM9 17H7v-7h2v7zm4 0h-2V7h2v10zm4 0h-2v-4h2v4z\"/>\n",
              "    </g>\n",
              "</svg>\n",
              "  </button>\n",
              "\n",
              "<style>\n",
              "  .colab-df-quickchart {\n",
              "      --bg-color: #E8F0FE;\n",
              "      --fill-color: #1967D2;\n",
              "      --hover-bg-color: #E2EBFA;\n",
              "      --hover-fill-color: #174EA6;\n",
              "      --disabled-fill-color: #AAA;\n",
              "      --disabled-bg-color: #DDD;\n",
              "  }\n",
              "\n",
              "  [theme=dark] .colab-df-quickchart {\n",
              "      --bg-color: #3B4455;\n",
              "      --fill-color: #D2E3FC;\n",
              "      --hover-bg-color: #434B5C;\n",
              "      --hover-fill-color: #FFFFFF;\n",
              "      --disabled-bg-color: #3B4455;\n",
              "      --disabled-fill-color: #666;\n",
              "  }\n",
              "\n",
              "  .colab-df-quickchart {\n",
              "    background-color: var(--bg-color);\n",
              "    border: none;\n",
              "    border-radius: 50%;\n",
              "    cursor: pointer;\n",
              "    display: none;\n",
              "    fill: var(--fill-color);\n",
              "    height: 32px;\n",
              "    padding: 0;\n",
              "    width: 32px;\n",
              "  }\n",
              "\n",
              "  .colab-df-quickchart:hover {\n",
              "    background-color: var(--hover-bg-color);\n",
              "    box-shadow: 0 1px 2px rgba(60, 64, 67, 0.3), 0 1px 3px 1px rgba(60, 64, 67, 0.15);\n",
              "    fill: var(--button-hover-fill-color);\n",
              "  }\n",
              "\n",
              "  .colab-df-quickchart-complete:disabled,\n",
              "  .colab-df-quickchart-complete:disabled:hover {\n",
              "    background-color: var(--disabled-bg-color);\n",
              "    fill: var(--disabled-fill-color);\n",
              "    box-shadow: none;\n",
              "  }\n",
              "\n",
              "  .colab-df-spinner {\n",
              "    border: 2px solid var(--fill-color);\n",
              "    border-color: transparent;\n",
              "    border-bottom-color: var(--fill-color);\n",
              "    animation:\n",
              "      spin 1s steps(1) infinite;\n",
              "  }\n",
              "\n",
              "  @keyframes spin {\n",
              "    0% {\n",
              "      border-color: transparent;\n",
              "      border-bottom-color: var(--fill-color);\n",
              "      border-left-color: var(--fill-color);\n",
              "    }\n",
              "    20% {\n",
              "      border-color: transparent;\n",
              "      border-left-color: var(--fill-color);\n",
              "      border-top-color: var(--fill-color);\n",
              "    }\n",
              "    30% {\n",
              "      border-color: transparent;\n",
              "      border-left-color: var(--fill-color);\n",
              "      border-top-color: var(--fill-color);\n",
              "      border-right-color: var(--fill-color);\n",
              "    }\n",
              "    40% {\n",
              "      border-color: transparent;\n",
              "      border-right-color: var(--fill-color);\n",
              "      border-top-color: var(--fill-color);\n",
              "    }\n",
              "    60% {\n",
              "      border-color: transparent;\n",
              "      border-right-color: var(--fill-color);\n",
              "    }\n",
              "    80% {\n",
              "      border-color: transparent;\n",
              "      border-right-color: var(--fill-color);\n",
              "      border-bottom-color: var(--fill-color);\n",
              "    }\n",
              "    90% {\n",
              "      border-color: transparent;\n",
              "      border-bottom-color: var(--fill-color);\n",
              "    }\n",
              "  }\n",
              "</style>\n",
              "\n",
              "  <script>\n",
              "    async function quickchart(key) {\n",
              "      const quickchartButtonEl =\n",
              "        document.querySelector('#' + key + ' button');\n",
              "      quickchartButtonEl.disabled = true;  // To prevent multiple clicks.\n",
              "      quickchartButtonEl.classList.add('colab-df-spinner');\n",
              "      try {\n",
              "        const charts = await google.colab.kernel.invokeFunction(\n",
              "            'suggestCharts', [key], {});\n",
              "      } catch (error) {\n",
              "        console.error('Error during call to suggestCharts:', error);\n",
              "      }\n",
              "      quickchartButtonEl.classList.remove('colab-df-spinner');\n",
              "      quickchartButtonEl.classList.add('colab-df-quickchart-complete');\n",
              "    }\n",
              "    (() => {\n",
              "      let quickchartButtonEl =\n",
              "        document.querySelector('#df-8380cb41-9492-420d-8ab3-881603581b6a button');\n",
              "      quickchartButtonEl.style.display =\n",
              "        google.colab.kernel.accessAllowed ? 'block' : 'none';\n",
              "    })();\n",
              "  </script>\n",
              "</div>\n",
              "    </div>\n",
              "  </div>\n"
            ]
          },
          "metadata": {},
          "execution_count": 15
        }
      ]
    },
    {
      "cell_type": "code",
      "source": [
        "x = pd.DataFrame(\n",
        "    {'prix': np.random.uniform(size = 5),\n",
        "     'quantite': [i+1 for i in range(5)]\n",
        "    },\n",
        "    index = ['yaourt','pates','riz','tomates','gateaux']\n",
        ")"
      ],
      "metadata": {
        "id": "6NoFkMBLWeqP"
      },
      "execution_count": null,
      "outputs": []
    },
    {
      "cell_type": "code",
      "source": [
        "y = pd.DataFrame(\n",
        "    {'prix': [np.nan, 0, 1, 2, 3],\n",
        "     'quantite': [i+1 for i in range(5)]\n",
        "    },\n",
        "    index = ['tomates','yaourt','gateaux','pates','riz']\n",
        ")\n",
        "y\n",
        "\n"
      ],
      "metadata": {
        "id": "NtEcMrwHsxuE"
      },
      "execution_count": null,
      "outputs": []
    },
    {
      "cell_type": "code",
      "source": [
        "print(x+y)"
      ],
      "metadata": {
        "id": "u6r0eHWosy4P"
      },
      "execution_count": null,
      "outputs": []
    },
    {
      "cell_type": "markdown",
      "source": [
        "Il est possible de supprimer les valeurs manquantes grâce à dropna(). Cette méthode va supprimer toutes les lignes où il y a au moins une valeur manquante. Il est aussi possible de supprimer seulement les colonnes où il y a des valeurs manquantes dans un DataFrame avec dropna() avec le paramètre axis=1 (par défaut égal à 0)."
      ],
      "metadata": {
        "id": "2twyIeBG8zRd"
      }
    },
    {
      "cell_type": "code",
      "source": [
        "GES_ADEME.shape"
      ],
      "metadata": {
        "id": "8VedNg2Q-WZ8"
      },
      "execution_count": null,
      "outputs": []
    },
    {
      "cell_type": "code",
      "source": [
        "GES_ADEME['Commune'].nunique()\n",
        "#GES_ADEME.nunique() pour toutes les colonnes en même temps."
      ],
      "metadata": {
        "id": "0c5BFC_i-zXR"
      },
      "execution_count": null,
      "outputs": []
    },
    {
      "cell_type": "code",
      "source": [
        "GES_ADEME.columns"
      ],
      "metadata": {
        "id": "nfq02dco_CCD"
      },
      "execution_count": null,
      "outputs": []
    },
    {
      "cell_type": "code",
      "source": [
        "GES_ADEME.describe()"
      ],
      "metadata": {
        "id": "D3Pq45HdAG-T"
      },
      "execution_count": null,
      "outputs": []
    },
    {
      "cell_type": "code",
      "source": [
        "GES_ADEME.isna().sum()"
      ],
      "metadata": {
        "id": "4rDCJzOuAmdJ"
      },
      "execution_count": null,
      "outputs": []
    },
    {
      "cell_type": "code",
      "source": [
        "print(GES_ADEME['Commune'])"
      ],
      "metadata": {
        "id": "YaWo3yDYDkBz"
      },
      "execution_count": null,
      "outputs": []
    },
    {
      "cell_type": "code",
      "source": [
        "print(GES_ADEME.iloc[1, :])"
      ],
      "metadata": {
        "id": "_R-mhGZoEjUf"
      },
      "execution_count": null,
      "outputs": []
    },
    {
      "cell_type": "code",
      "source": [
        "GES_ADEME['x'] = np.log(df['Agriculture'])"
      ],
      "metadata": {
        "id": "t2jF83srGd2X"
      },
      "execution_count": null,
      "outputs": []
    },
    {
      "cell_type": "code",
      "source": [
        "GES_ADEME[GES_ADEME['Agriculture']>2000]"
      ],
      "metadata": {
        "id": "z9XWeZyhHn2X"
      },
      "execution_count": null,
      "outputs": []
    },
    {
      "cell_type": "markdown",
      "source": [
        "df[['Autres transports','Energie']]\n",
        "\n",
        "table1.merge(table2, left_on = 'id', right_on = 'x')\n"
      ],
      "metadata": {
        "id": "RGBnvNoQHfwp"
      }
    },
    {
      "cell_type": "code",
      "source": [
        "GES_ADEME = GES_ADEME.sort_values(\"Résidentiel\", ascending = False)"
      ],
      "metadata": {
        "id": "BbIW1yYiJhL1"
      },
      "execution_count": null,
      "outputs": []
    },
    {
      "cell_type": "code",
      "source": [
        "GES_ADEME[GES_ADEME['Commune'].apply(lambda s: len(s)>40)]"
      ],
      "metadata": {
        "id": "5NNjSr7aLTa7"
      },
      "execution_count": null,
      "outputs": []
    },
    {
      "cell_type": "markdown",
      "source": [
        "En Python, le mot-clé lambda est utilisé pour déclarer une fonction anonyme, raison pour laquelle ces fonctions sont appelées « fonctions lambda«.\n",
        "\n",
        "Syntaxe :lambda arguments: expression\n",
        "\n",
        "De façon générale les fonctions anonymes sont utilisées lorsqu’il n’est pas nécessaire de nommer une fonction. En effet, il y a aucun intérêt de nommer une fonction qu’on utilisera qu’une fois 🤔. Mieux, on peut dire que l’utilisation de fonctions lambda est une question de style. Leur utilisation n’est jamais la seule façon de résoudre un problème ; chaque fonction anonyme pourrait plutôt être définie comme une fonction classique (régulière)."
      ],
      "metadata": {
        "id": "HwrKq90zL6bB"
      }
    },
    {
      "cell_type": "code",
      "source": [],
      "metadata": {
        "id": "0qomZGIlLXLj"
      },
      "execution_count": null,
      "outputs": []
    },
    {
      "cell_type": "markdown",
      "source": [
        "# Graphes"
      ],
      "metadata": {
        "id": "DoZmFGqyQFWm"
      }
    },
    {
      "cell_type": "code",
      "source": [
        "GES_ADEME_without_balance.hist(figsize=(20,15))\n",
        "plt.show()"
      ],
      "metadata": {
        "id": "_ruAADf8QEz8"
      },
      "execution_count": null,
      "outputs": []
    },
    {
      "cell_type": "markdown",
      "source": [
        "# ML"
      ],
      "metadata": {
        "id": "aPWHtvEuQvT0"
      }
    }
  ]
}